{
 "cells": [
  {
   "cell_type": "markdown",
   "metadata": {},
   "source": [
    "# 03장 프로그램의 구조를 쌓는다! 제어문"
   ]
  },
  {
   "cell_type": "markdown",
   "metadata": {},
   "source": [
    "## 3-1 ) if문\n",
    "-----------------------------------------------------------------------"
   ]
  },
  {
   "cell_type": "markdown",
   "metadata": {},
   "source": [
    "> ### 「쇼핑하러 갈 때, 우유 하나 사와. 아, 계란 있으면 6개 사와」\n",
    "\n",
    "라고 심부름을 부탁했다.\n",
    "\n",
    "남편은 잠시 후, 우유를 6개 사왔다.\n",
    "\n",
    "아내는 물었다.\n",
    "\n",
    "#### 「왜 우유를 6개나 사왔어!」\n",
    "\n",
    "#### 남편「계란이 있어서...」 \n"
   ]
  },
  {
   "cell_type": "code",
   "execution_count": null,
   "metadata": {},
   "outputs": [],
   "source": [
    "if (계란 = true) \n",
    "    우유 6 구매 \n",
    "else \n",
    "    우유 1 구매 "
   ]
  },
  {
   "cell_type": "markdown",
   "metadata": {},
   "source": [
    "-----------------------------------------------------------------------"
   ]
  },
  {
   "cell_type": "markdown",
   "metadata": {},
   "source": [
    "### (1) if문은 왜 필요할까?\n",
    "  \n",
    "**\"돈이 있으면 택시를 타고, 돈이 없으면 걸어 간다.\"**  \n",
    "  \n",
    "**if문** : 주어진 조건을 판단한 후 그 상황에 맞게 처리해야 할 경우에 쓰이는 조건문  \n",
    "위와 같은 상황을 파이썬에서는 다음과 같이 표현할 수 있다."
   ]
  },
  {
   "cell_type": "code",
   "execution_count": null,
   "metadata": {},
   "outputs": [],
   "source": [
    "money = True\n",
    "if money:\n",
    "    print(\"택시를 타고 가라\")\n",
    "else:\n",
    "    print(\"걸어 가라\")"
   ]
  },
  {
   "cell_type": "markdown",
   "metadata": {},
   "source": [
    "-----------------------------------------------------------------------"
   ]
  },
  {
   "cell_type": "markdown",
   "metadata": {},
   "source": [
    "### (2) if문의 기본 구조 (General format)  \n",
    "if문은 **if, elif, else** 세 가지를 이용하여 구성된다.  \n",
    "  \n",
    "if + 조건문  \n",
    "elif + 조건문  \n",
    "else + 조건문  \n",
    "  \n",
    "조건문 뒤에는 **컬럼(:)**이 꼭 붙는다.  \n"
   ]
  },
  {
   "cell_type": "code",
   "execution_count": null,
   "metadata": {},
   "outputs": [],
   "source": [
    "if test1: # if test\n",
    "    statements1 # Associated block\n",
    "elif test2: # Optional elifs\n",
    "    statements2\n",
    "else: # Optional else\n",
    "    statements3"
   ]
  },
  {
   "cell_type": "code",
   "execution_count": null,
   "metadata": {},
   "outputs": [],
   "source": [
    "if 1:\n",
    "    print('true')"
   ]
  },
  {
   "cell_type": "code",
   "execution_count": null,
   "metadata": {},
   "outputs": [],
   "source": [
    "if 0:\n",
    "    print('success')"
   ]
  },
  {
   "cell_type": "code",
   "execution_count": null,
   "metadata": {},
   "outputs": [],
   "source": [
    "if not 1:\n",
    "    print('true')\n",
    "else:\n",
    "    print('false')"
   ]
  },
  {
   "cell_type": "code",
   "execution_count": null,
   "metadata": {},
   "outputs": [],
   "source": [
    "if not 0:\n",
    "    print('true')\n",
    "else:\n",
    "    print('false')"
   ]
  },
  {
   "cell_type": "code",
   "execution_count": null,
   "metadata": {},
   "outputs": [],
   "source": [
    "x = 'killer rabbit'\n",
    "\n",
    "if x == 'bird':\n",
    "    print(\"What a adrobale bird!\")\n",
    "elif x == 'bugs':\n",
    "    print(\"Oops!\")\n",
    "else:\n",
    "    print('Run away! Run away!')"
   ]
  },
  {
   "cell_type": "code",
   "execution_count": null,
   "metadata": {},
   "outputs": [],
   "source": [
    "\n",
    "if x == 'killer rabbit':\n",
    "    print(\"What a adrobale bird!\")\n",
    "elif x == 'killer rabbit':\n",
    "    print(\"Oops!\")\n",
    "else:\n",
    "    print('Run away! Run away!')"
   ]
  },
  {
   "cell_type": "code",
   "execution_count": null,
   "metadata": {},
   "outputs": [],
   "source": [
    "\n",
    "if x == 'killer rabbit':\n",
    "    print(\"What a adrobale bird!\")\n",
    "if x == 'killer rabbit':\n",
    "    print(\"Oops!\")\n",
    "else:\n",
    "    print('Run away! Run away!')"
   ]
  },
  {
   "cell_type": "code",
   "execution_count": null,
   "metadata": {},
   "outputs": [],
   "source": [
    "elif x=='killer rabiit':\n",
    "    print('success elif')\n",
    "else :\n",
    "    print('fail elif')"
   ]
  },
  {
   "cell_type": "markdown",
   "metadata": {},
   "source": [
    "-----------------------------------------------------------------------"
   ]
  },
  {
   "cell_type": "markdown",
   "metadata": {},
   "source": [
    "### (3) 들여쓰기 (Indentation)  \n",
    "if문을 만들 때는 조건문 바로 아래 문장부터 if문에 속하는 모든 문장에 들여쓰기를 해야 한다.  \n"
   ]
  },
  {
   "cell_type": "code",
   "execution_count": null,
   "metadata": {},
   "outputs": [],
   "source": [
    "if 조건문:\n",
    "# ======================\n",
    "    수행할 문장1\n",
    "    수행할 문장2\n",
    "    수행할 문장3\n",
    "#=======================\n",
    "# 조건문에 해당하는 statement bodies"
   ]
  },
  {
   "cell_type": "code",
   "execution_count": null,
   "metadata": {},
   "outputs": [],
   "source": [
    "if 조건문:\n",
    "# ======================\n",
    "    수행할 문장1\n",
    "# ======================\n",
    "# 조건문에 해당하는 statement bodies\n",
    "\n",
    "# 조건문과 상관없이 수행되는 문장\n",
    "수행할 문장2\n",
    "\n",
    "# ????\n",
    "    수행할 문장3"
   ]
  },
  {
   "cell_type": "code",
   "execution_count": null,
   "metadata": {},
   "outputs": [],
   "source": [
    "money = True\n",
    "\n",
    "if money:\n",
    "    print(\"택시를\")\n",
    "print(\"타고\")\n",
    "    print(\"가라\")"
   ]
  },
  {
   "cell_type": "markdown",
   "metadata": {},
   "source": [
    "### (3-1) 들여쓰기의 깊이는 중요할까?"
   ]
  },
  {
   "cell_type": "code",
   "execution_count": null,
   "metadata": {},
   "outputs": [],
   "source": [
    "x = 1\n",
    "if x:\n",
    "    y = 2\n",
    "    if y:\n",
    "        print('block2')\n",
    "    print('block1')\n",
    "print('block0')"
   ]
  },
  {
   "cell_type": "code",
   "execution_count": null,
   "metadata": {},
   "outputs": [],
   "source": [
    "money = True\n",
    "if money:\n",
    "    print(\"택시를\")\n",
    "    print(\"타고\")\n",
    "        print(\"가라\")"
   ]
  },
  {
   "cell_type": "code",
   "execution_count": null,
   "metadata": {},
   "outputs": [],
   "source": [
    "  x = 'SPAM'\n",
    "if 'rubbery' in 'shrubbery':\n",
    "    print(x * 8)\n",
    "        x += 'NI'\n",
    "        if x.endswith('NI'):\n",
    "                x *= 2\n",
    "            print(x) "
   ]
  },
  {
   "cell_type": "markdown",
   "metadata": {},
   "source": [
    "### (3-2) 들여쓰기는 어떻게 할까?  (Avoid mixing tabs and spaces)\n",
    "1. 공백 (spacebar)  \n",
    "2. 탭 (Tab)  \n",
    "- 탭은 **한 번**, 공백은 **네 번**을 입력한다.\n",
    "  \n",
    "#### 혼용해서 사용하지 말 것!  \n",
    "Tab과 spacebar는 눈으로 확인할 수 없기 때문에 **혼용해서 쓰면 error의 원인이 됨.**  \n",
    "\n",
    "-----------------------------------------------------------------------"
   ]
  },
  {
   "cell_type": "markdown",
   "metadata": {},
   "source": [
    "## <Question 01>"
   ]
  },
  {
   "cell_type": "markdown",
   "metadata": {},
   "source": [
    "> **「쇼핑하러 갈 때, 우유 하나 사와. 아, 계란 있으면 6개 사와」**\n",
    "\n",
    "라고 심부름을 부탁했다.\n",
    "\n",
    "남편이 우유 하나와 계란을 6개 사오는 조건문을 작성해보자.\n",
    "\n",
    "**계란이 있다면 우유 하나와 계란 6개, 계란이 없다면 우유 하나만 사온다.**  \n",
    "**우유가 없다면 아무 것도 사오지 않는다.**\n",
    "  \n",
    "  \n",
    "  \n"
   ]
  },
  {
   "cell_type": "markdown",
   "metadata": {},
   "source": [
    "**Hint01)** 우유의 변수명은 'milk', 계란의 변수명은 'eggs'  \n",
    "**Hint02)** 우유와 계란의 유무 및 개수는 변수에 저장된 값을 바꿈으로써 지정한다.  \n",
    "**Hint03)** 우유와 계란의 개수는 print 형식으로 출력한다.  \n",
    "<--출력 형식-->  \n",
    "milk : ?  \n",
    "eggs : ?  \n",
    "No eggs (계란이 없을 시)  "
   ]
  },
  {
   "cell_type": "code",
   "execution_count": null,
   "metadata": {},
   "outputs": [],
   "source": []
  },
  {
   "cell_type": "markdown",
   "metadata": {},
   "source": [
    "-----------------------------------------------------------------------\n",
    "### (4) 조건문이란 무엇인가?"
   ]
  },
  {
   "cell_type": "markdown",
   "metadata": {},
   "source": [
    "앞서 \"조건문\"이란 참과 거짓을 판단하는 문장이다.  \n",
    "따라서 조건문과 반복문을 제대로 사용하기 위해서는 **비교 연산자**와 **논리 연산자**의 이해가 필수이다.  \n",
    "\n"
   ]
  },
  {
   "cell_type": "markdown",
   "metadata": {},
   "source": [
    "#### 비교 연산자 (comparison operator)  \n",
    "  \n",
    "| 비교 연산자 | 설명  |\n",
    "|:---|:---|\n",
    "|<img width=100 />|<img width=300/>|\n",
    "| x < y  | x가 y보다 작다  |\n",
    "| x > y  | x가 y보다 크다  |\n",
    "| x == y  | x와 y가 같다  |\n",
    "| x != y  | x와 y가 같지 않다  |\n",
    "| x >= y  | x가 y보다 크거나 같다  |\n",
    "| x <= y  | x가 y보다 작거나 같다  |"
   ]
  },
  {
   "cell_type": "code",
   "execution_count": null,
   "metadata": {},
   "outputs": [],
   "source": [
    "x = 7\n",
    "y = 3"
   ]
  },
  {
   "cell_type": "code",
   "execution_count": null,
   "metadata": {},
   "outputs": [],
   "source": [
    "x > y"
   ]
  },
  {
   "cell_type": "code",
   "execution_count": null,
   "metadata": {},
   "outputs": [],
   "source": [
    "x < y"
   ]
  },
  {
   "cell_type": "code",
   "execution_count": null,
   "metadata": {},
   "outputs": [],
   "source": [
    "x == y"
   ]
  },
  {
   "cell_type": "code",
   "execution_count": null,
   "metadata": {},
   "outputs": [],
   "source": [
    "x!=y"
   ]
  },
  {
   "cell_type": "code",
   "execution_count": null,
   "metadata": {},
   "outputs": [],
   "source": [
    "x>=y"
   ]
  },
  {
   "cell_type": "code",
   "execution_count": null,
   "metadata": {},
   "outputs": [],
   "source": [
    "x<=y"
   ]
  },
  {
   "cell_type": "markdown",
   "metadata": {},
   "source": [
    "비교 연산자를 사용하여 나온 결과값은 **Boolean 형태**로 출력된다.  \n",
    "\n",
    "결과값이 **True**로 나온 조건문은 **참**이다.  \n",
    "\n",
    "결과값이 **False**로 나온 조건문은 **거짓**이다.  \n",
    "\n",
    "#### 그렇다면 조건문이 무엇일 경우 블록 안의 문장이 수행될까?"
   ]
  },
  {
   "cell_type": "markdown",
   "metadata": {},
   "source": [
    "### \"만약 3000원 이상의 돈을 가지고 있으면 택시를 타고 그렇지 않으면 걸어 가라\"\n",
    "  \n",
    "  "
   ]
  },
  {
   "cell_type": "code",
   "execution_count": null,
   "metadata": {},
   "outputs": [],
   "source": [
    "money = 2000\n",
    "if money >= 3000:\n",
    "    print(\"택시를 타고 가라\")\n",
    "else:\n",
    "    print(\"걸어가라\")"
   ]
  },
  {
   "cell_type": "markdown",
   "metadata": {},
   "source": [
    "-----------------------------------------------------------------------\n",
    "## <Question 02>"
   ]
  },
  {
   "cell_type": "markdown",
   "metadata": {},
   "source": [
    "> **「두 가지 숫자를 비교하여 다음과 같이 출력하시오.」**\n",
    "  \n",
    "\n",
    "1. 두 숫자가 같으면 **'두 숫자는 같습니다!'** \n",
    "2. 크거나 작으면 **'변수 x가 변수 y보다 큽니다 or 작습니다'**  \n",
    "\n",
    "\n",
    "-----------------------------------------------------------------------\n",
    "  \n",
    "  #### 비교 연산자 (comparison operator)  \n",
    "  \n",
    "| 비교 연산자 | 설명  |\n",
    "|:---|:---|\n",
    "|<img width=100 />|<img width=300/>|\n",
    "| x < y  | x가 y보다 작다  |\n",
    "| x > y  | x가 y보다 크다  |\n",
    "| x == y  | x와 y가 같다  |\n",
    "| x != y  | x와 y가 같지 않다  |\n",
    "| x >= y  | x가 y보다 크거나 같다  |\n",
    "| x <= y  | x가 y보다 작거나 같다  |  \n",
    "  \n",
    "  \n",
    "  \n",
    "**Hint01)** 변수명은 자유롭게 지정한다  \n",
    "**Hint02)** if문과 비교 연산자를 사용한다  \n",
    "**Hint03)** else문은 사용하지 않는다. (only if, elif)\n",
    "\n",
    "-----------------------------------------------------------------------"
   ]
  },
  {
   "cell_type": "code",
   "execution_count": null,
   "metadata": {},
   "outputs": [],
   "source": [
    "num1 = 20\n",
    "num2 = 30\n",
    "\n",
    "if num1 == num2:\n",
    "\n",
    "\n",
    "elif num1 != num2:\n"
   ]
  },
  {
   "cell_type": "markdown",
   "metadata": {},
   "source": [
    "#### 논리 연산자 (logical operator)  : 조건문 판단하기\n",
    "| 논리 연산자 | 설명  |\n",
    "|:---|:---|\n",
    "|<img width=100 />|<img width=300/>|\n",
    "| x and y  | \tx와 y 모두 참이어야 참이다 |\n",
    "| x or y  | x와 y 둘중에 하나만 참이면 참이다 |\n",
    "| not x  | x가 거짓이면 참이다 |\n",
    "\n",
    "  \n",
    "  "
   ]
  },
  {
   "cell_type": "markdown",
   "metadata": {},
   "source": [
    "### \"돈이 3000원 이상 있거나 카드가 있다면 택시를 타고 그렇지 않으면 걸어 가라\""
   ]
  },
  {
   "cell_type": "code",
   "execution_count": null,
   "metadata": {},
   "outputs": [],
   "source": [
    "money = 2000\n",
    "card = True\n",
    "if money >= 3000 or card:\n",
    "    print(\"택시를 타고 가라\")\n",
    "else:\n",
    "    print(\"걸어가라\")"
   ]
  },
  {
   "cell_type": "markdown",
   "metadata": {},
   "source": [
    "money는 2000이지만 card가 True이기 때문에  \n",
    "`money >= 3000 or card` 라는 조건문이 참이 된다."
   ]
  },
  {
   "cell_type": "markdown",
   "metadata": {},
   "source": [
    "### A Few Special Cases  \n",
    "**파이썬에서만 볼 수 있는 재미있는 조건문**"
   ]
  },
  {
   "cell_type": "markdown",
   "metadata": {},
   "source": [
    "| in | not in  |\n",
    "|:---|:---|\n",
    "|<img width=100 />|<img width=300/>|\n",
    "| x in 리스트  | x not in 리스트 |\n",
    "| x in 튜플  | x not in 튜플 |\n",
    "| x in 문자열  | x not in 문자열 |\n",
    "  \n",
    "in의 뜻이 \"~안에\" 라는 것을 생각해보면 쉽게 이해할 수 있다."
   ]
  },
  {
   "cell_type": "markdown",
   "metadata": {},
   "source": [
    "#### 리스트  \n",
    "[1,2,3]이라는 리스트 안에 1이 있는가?"
   ]
  },
  {
   "cell_type": "code",
   "execution_count": null,
   "metadata": {},
   "outputs": [],
   "source": [
    "1 in [1, 2, 3]"
   ]
  },
  {
   "cell_type": "markdown",
   "metadata": {},
   "source": [
    "[1,2,3]이라는 리스트 안에 1이 없는가?"
   ]
  },
  {
   "cell_type": "code",
   "execution_count": null,
   "metadata": {},
   "outputs": [],
   "source": [
    "1 not in [1, 2, 3]"
   ]
  },
  {
   "cell_type": "markdown",
   "metadata": {},
   "source": [
    "#### 튜플  "
   ]
  },
  {
   "cell_type": "code",
   "execution_count": null,
   "metadata": {},
   "outputs": [],
   "source": [
    "'a' in ('a', 'b', 'c')"
   ]
  },
  {
   "cell_type": "code",
   "execution_count": null,
   "metadata": {},
   "outputs": [],
   "source": [
    "'j' not in 'python'"
   ]
  },
  {
   "cell_type": "markdown",
   "metadata": {},
   "source": [
    "-----------------------------------------------------------------------\n",
    "### (5) 다양한 조건을 판단하는 elif : multiway branch"
   ]
  },
  {
   "cell_type": "markdown",
   "metadata": {},
   "source": [
    "**elif는 이전 조건문이 거짓일 때 수행된다**  \n",
    "**elif는 개수에 제한 없이 사용할 수 있다.**"
   ]
  },
  {
   "cell_type": "code",
   "execution_count": null,
   "metadata": {},
   "outputs": [],
   "source": [
    "If <조건문>:\n",
    "    <수행할 문장1> \n",
    "    <수행할 문장2>\n",
    "    ...\n",
    "elif <조건문>:\n",
    "    <수행할 문장1>\n",
    "    <수행할 문장2>\n",
    "    ...\n",
    "elif <조건문>:\n",
    "    <수행할 문장1>\n",
    "    <수행할 문장2>\n",
    "    ...\n",
    "...\n",
    "else:\n",
    "   <수행할 문장1>\n",
    "   <수행할 문장2>\n",
    "   ... "
   ]
  },
  {
   "cell_type": "markdown",
   "metadata": {},
   "source": [
    "### <Question 03>  \n",
    "> \"주머니에 돈이 있으면 택시를 타고, 주머니에 돈은 없지만 카드가 있으면 택시를 타고, 돈도 없고 카드도 없으면 걸어 가라\"\n",
    "  \n",
    "  **Hint01)** elif문을 사용하시오.  "
   ]
  },
  {
   "cell_type": "code",
   "execution_count": null,
   "metadata": {},
   "outputs": [],
   "source": [
    "pocket = ['paper', 'cellphone', 'money']\n",
    "card = True\n",
    "\n"
   ]
  },
  {
   "cell_type": "code",
   "execution_count": null,
   "metadata": {},
   "outputs": [],
   "source": []
  },
  {
   "cell_type": "markdown",
   "metadata": {},
   "source": [
    "--------------------------------------------------"
   ]
  },
  {
   "cell_type": "markdown",
   "metadata": {},
   "source": [
    "### Tip) 조건문에서 아무 일도 하지 않게 설정하고 싶다면?"
   ]
  },
  {
   "cell_type": "markdown",
   "metadata": {},
   "source": [
    "가끔 조건문의 참, 거짓에 따라 실행할 행동을 정의할 때, 아무런 일도 하지 않도록 설정하고 싶을 때가 있다. 다음의 예를 보자.  \n",
    "> **\"주머니에 돈이 있으면 가만히 있고 주머니에 돈이 없으면 카드를 꺼내라\"**\n",
    ">> '가만히 있으라고...?"
   ]
  },
  {
   "cell_type": "markdown",
   "metadata": {},
   "source": [
    "**pass**  \n",
    "pass가 수행되면 아무런 결과값도 보여주지 않는다."
   ]
  },
  {
   "cell_type": "code",
   "execution_count": null,
   "metadata": {},
   "outputs": [],
   "source": [
    "pocket = ['paper', 'money', 'cellphone']\n",
    "if 'money' in pocket:\n",
    "    pass \n",
    "else:\n",
    "    print(\"카드를 꺼내라\")"
   ]
  },
  {
   "cell_type": "markdown",
   "metadata": {},
   "source": [
    "### Tip) if문을 한 줄로 작성하기"
   ]
  },
  {
   "cell_type": "markdown",
   "metadata": {},
   "source": [
    "위의 pass를 사용한 예를 보면 if문 다음에 수행할 문장이 한 줄이고, else문 다음에 수행할 문장도 한 줄밖에 되지 않는다.  \n",
    "이렇게 수행할 문장이 한 줄일 때 조금 더 간략하게 코드를 작성하는 방법이 있다."
   ]
  },
  {
   "cell_type": "code",
   "execution_count": null,
   "metadata": {},
   "outputs": [],
   "source": [
    "pocket = ['paper', 'money', 'cellphone']\n",
    "if 'money' in pocket: pass\n",
    "else: print(\"카드를 꺼내라\")"
   ]
  },
  {
   "cell_type": "markdown",
   "metadata": {},
   "source": [
    "if문 다음의 수행할 문장을 콜론(:) 뒤에 바로 적어 주었다. else문 역시 마찬가지이다.\n"
   ]
  },
  {
   "cell_type": "markdown",
   "metadata": {},
   "source": [
    "\n",
    "---------------------------------------------------------------------------\n",
    "### (6) 조건부 표현식 (Conditional expression)\n",
    "#### The if/else Ternary Expression : statement to expression"
   ]
  },
  {
   "cell_type": "code",
   "execution_count": null,
   "metadata": {},
   "outputs": [],
   "source": [
    "score = 70 \n",
    "\n",
    "if score >= 60:\n",
    "    message = \"success\"\n",
    "else:\n",
    "    message = \"failure\""
   ]
  },
  {
   "cell_type": "markdown",
   "metadata": {},
   "source": [
    "위 코드는 score가 60 이상일 경우 message에 \"success\"를 아닐 경우에는 \"failure\"를 대입하는 코드이다.  \n",
    "파이썬의 **조건부 표현식(conditional expression)** 을 이용하면 위 코드를 다음과 같이 간단히 표현할 수 있다."
   ]
  },
  {
   "cell_type": "code",
   "execution_count": null,
   "metadata": {},
   "outputs": [],
   "source": [
    "message = \"success\" if score >= 60 else \"failure\"\n",
    "message"
   ]
  },
  {
   "cell_type": "code",
   "execution_count": null,
   "metadata": {},
   "outputs": [],
   "source": [
    "조건문이_참인_경우 if 조건문 else 조건문이_거짓인_경우"
   ]
  },
  {
   "cell_type": "markdown",
   "metadata": {},
   "source": [
    "* 가독성에 유리함  \n",
    "* 한 라인으로 작성할 수 있어 활용성이 좋다."
   ]
  },
  {
   "cell_type": "markdown",
   "metadata": {},
   "source": [
    "--------------\n",
    "### <Question 04>  \n",
    "> **다음 코드에 주석을 달아 각 조건문을 설명하고, 결과값을 확인해보자.**\n",
    "  "
   ]
  },
  {
   "cell_type": "code",
   "execution_count": null,
   "metadata": {},
   "outputs": [],
   "source": [
    "a = \"Life is too short, you need python\"\n",
    "if 'wife' in a:\n",
    "    print('wife')\n",
    "elif 'python' in a and 'you' not in a:\n",
    "    print('python')\n",
    "elif 'shirt' not in a:\n",
    "    print('shirt')\n",
    "elif 'need' in a:\n",
    "    print('need')\n",
    "else:\n",
    "    print('none')"
   ]
  },
  {
   "cell_type": "code",
   "execution_count": null,
   "metadata": {},
   "outputs": [],
   "source": [
    "a = \"Life is too short, you need python\"\n",
    "\n",
    "# 'wife'라는 단어가 a 안에 존재한다면\n",
    "if 'wife' in a:\n",
    "# wife를 출력\n",
    "    print('wife')"
   ]
  },
  {
   "cell_type": "code",
   "execution_count": null,
   "metadata": {},
   "outputs": [],
   "source": []
  }
 ],
 "metadata": {
  "kernelspec": {
   "display_name": "Python 3",
   "language": "python",
   "name": "python3"
  },
  "language_info": {
   "codemirror_mode": {
    "name": "ipython",
    "version": 3
   },
   "file_extension": ".py",
   "mimetype": "text/x-python",
   "name": "python",
   "nbconvert_exporter": "python",
   "pygments_lexer": "ipython3",
   "version": "3.6.6"
  }
 },
 "nbformat": 4,
 "nbformat_minor": 2
}
