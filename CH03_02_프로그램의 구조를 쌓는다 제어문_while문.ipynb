{
 "cells": [
  {
   "cell_type": "markdown",
   "metadata": {},
   "source": [
    "# 03장 프로그램의 구조를 쌓는다! 제어문"
   ]
  },
  {
   "cell_type": "markdown",
   "metadata": {},
   "source": [
    "## 3-2 ) while문\n",
    "-----------------------------------------------------------------------"
   ]
  },
  {
   "cell_type": "markdown",
   "metadata": {},
   "source": [
    "> ### 「나무는 열 번 찍어야 넘어간대.」  \n",
    "열 번 ...? **그럼 열 번 넘어 찍으면 이미 넘어갔는데 나무가 아프겠네?**"
   ]
  },
  {
   "cell_type": "markdown",
   "metadata": {},
   "source": [
    "### (1) while문의 기본 구조\n",
    "나무를 찍는 건 조건일까, 반복일까?  \n",
    "  \n",
    "반복해서 문장을 수행해야 할 경우 while문을 사용한다.  \n",
    "그래서 while문을 반복문이라고도 부른다."
   ]
  },
  {
   "cell_type": "code",
   "execution_count": null,
   "metadata": {},
   "outputs": [],
   "source": [
    "while <조건문>:\n",
    "    <수행할 문장1>\n",
    "    <수행할 문장2>\n",
    "    <수행할 문장3>\n",
    "    ..."
   ]
  },
  {
   "cell_type": "markdown",
   "metadata": {},
   "source": [
    "**조건문이 참인 동안**에 while문 아래에 속하는 문장들이 반복해서 수행된다."
   ]
  },
  {
   "cell_type": "markdown",
   "metadata": {},
   "source": [
    "> **\"열 번 찍어 안 넘어 가는 나무 없다\"**"
   ]
  },
  {
   "cell_type": "code",
   "execution_count": null,
   "metadata": {},
   "outputs": [],
   "source": [
    "treeHit = 0\n",
    "\n",
    "while treeHit < 10:\n",
    "    treeHit = treeHit +1\n",
    "    print(\"나무를 %d번 찍었습니다.\" % treeHit)\n",
    "    \n",
    "    if treeHit == 10:\n",
    "        print(\"나무 넘어갑니다.\")"
   ]
  },
  {
   "cell_type": "markdown",
   "metadata": {},
   "source": [
    "* **조건문 : treeHit < 10**   \n",
    "즉, **treeHit가 10보다 작은 동안**에 while문 안의 문장들을 계속 수행한다.  \n",
    "whlie문 안의 문장을 보면 제일 먼저 treeHit = treeHit + 1로 treeHit 값이 계속 1씩 증가한다.  \n",
    "treeHit이 계속해서 증가하여 10이 된다면 **treeHit < 10 이라는 조건문이 거짓**이 되므로 while문을 빠져나가게 된다.\n",
    "\n",
    "-----------"
   ]
  },
  {
   "cell_type": "markdown",
   "metadata": {},
   "source": [
    "### (2) while문 만들기"
   ]
  },
  {
   "cell_type": "code",
   "execution_count": null,
   "metadata": {},
   "outputs": [],
   "source": [
    "# 여러줄 문자열 만들기\n",
    "prompt = \"\"\"\n",
    "1.Add\n",
    "2.Del\n",
    "3.List\n",
    "4.Quit\n",
    "Enter number: \"\"\"\n"
   ]
  },
  {
   "cell_type": "code",
   "execution_count": null,
   "metadata": {},
   "outputs": [],
   "source": [
    "number = 0\n",
    "\n",
    "while number != 4:\n",
    "    print(prompt)\n",
    "    number = int(input())\n",
    "    # input 함수 : 값을 입력받는 함수 (내장함수)"
   ]
  },
  {
   "cell_type": "markdown",
   "metadata": {},
   "source": [
    "while문을 보면 **number가 4가 아닌 동안 prompt를 출력**하고 사용자로부터 번호를 입력받는다.  \n",
    "다음의 결과 화면처럼 사용자가 4라는 값을 입력하지 않으면 계속해서 prompt를 출력한다."
   ]
  },
  {
   "cell_type": "markdown",
   "metadata": {},
   "source": [
    "-------------\n",
    "### (3) while문 강제로 빠져나가기"
   ]
  },
  {
   "cell_type": "markdown",
   "metadata": {},
   "source": [
    "while문은 조건문이 참인 동안 계속해서 while문 안의 내용을 반복적으로 수행한다.  \n",
    "하지만 강제로 while문을 빠져나가고 싶을 때가 있다. "
   ]
  },
  {
   "cell_type": "markdown",
   "metadata": {},
   "source": [
    "> **자판기 안에 커피가 충분히 있을 때에는 동전을 넣으면 커피가 나온다.**  \n",
    "그런데 자판기가 제대로 작동하려면 커피가 얼마나 남았는지 항상 검사해야 한다.  \n",
    "만약 커피가 떨어졌다면 판매를 중단하고 **\"판매 중지\"**라는 문구를 사용자에게 보여주어야 한다. "
   ]
  },
  {
   "cell_type": "code",
   "execution_count": null,
   "metadata": {
    "scrolled": true
   },
   "outputs": [],
   "source": [
    "# coffee는 10 잔, 돈은 300원\n",
    "coffee = 10\n",
    "money = 300\n",
    "\n",
    "# 돈이 있는 동안은 계속해서 while문 내에 문장 실행\n",
    "while money:\n",
    "    print(\"돈을 받았으니 커피를 줍니다.\")\n",
    "    coffee = coffee -1\n",
    "    print(\"남은 커피의 양은 %d개입니다.\" % coffee)\n",
    "    \n",
    "    # coffee가 없으면 더 팔 수 없음\n",
    "    if coffee == 0:\n",
    "        print(\"커피가 다 떨어졌습니다. 판매를 중지합니다.\")\n",
    "        break"
   ]
  },
  {
   "cell_type": "markdown",
   "metadata": {},
   "source": [
    "money가 300으로 고정되어 있으므로 while money:에서 **조건문인 money는 0이 아니기 때문에 항상 참**이다.  \n",
    "따라서 무한히 반복되는 **무한 루프**를 돌게 된다.  \n",
    "### break문을 사용하면 while문을 빠져나갈 수 있다."
   ]
  },
  {
   "cell_type": "markdown",
   "metadata": {},
   "source": [
    "--------------\n",
    "## <Question 05>"
   ]
  },
  {
   "cell_type": "markdown",
   "metadata": {},
   "source": [
    "> **「실제 커피 자판기를 만들어보자」**  \n",
    "  \n",
    "**Hint01)** while문을 사용한다.  \n",
    "**Hint02)** if문을 사용한다.  \n",
    "**Hint03)** 돈은 입력을 받고, 입력받는 함수는 input을 사용한다.  \n",
    "**Hint04)** 커피는 10개부터 시작하고, 한 잔에 300원이다."
   ]
  },
  {
   "cell_type": "code",
   "execution_count": null,
   "metadata": {},
   "outputs": [],
   "source": [
    "coffee = 10\n",
    "while True:\n",
    "    money = int(input(\"돈을 넣어 주세요: \"))"
   ]
  },
  {
   "cell_type": "markdown",
   "metadata": {},
   "source": [
    "**실제 출력 모습**  \n",
    "  \n",
    "돈을 넣어 주세요: 500  \n",
    "거스름돈 200를 주고 커피를 줍니다.  \n",
    "돈을 넣어 주세요: 300  \n",
    "커피를 줍니다.  \n",
    "돈을 넣어 주세요: 100  \n",
    "돈을 다시 돌려주고 커피를 주지 않습니다.  \n",
    "남은 커피의 양은 8개입니다.  \n",
    "돈을 넣어 주세요:  "
   ]
  },
  {
   "cell_type": "markdown",
   "metadata": {},
   "source": [
    "-------------\n",
    "### (4) while문의 맨 처음으로 돌아가기"
   ]
  },
  {
   "cell_type": "markdown",
   "metadata": {},
   "source": [
    "while문 안의 문장을 수행할 때 입력된 조건을 검사해서 조건에 맞지 않으면 while문을 빠져나간다.  \n",
    "그런데 프로그래밍을 하다 보면 while문을 빠져나가지 않고 **while문의 맨 처음(조건문)으로 다시 돌아가게 만들고 싶은 경우가 생기게 된다.**  \n",
    "만약 **1부터 10까지의 숫자 중에서 홀수만 출력하는 것을 while문을 이용해서 작성**한다고 생각해 보자. 어떤 방법이 좋을까?"
   ]
  },
  {
   "cell_type": "code",
   "execution_count": null,
   "metadata": {},
   "outputs": [],
   "source": [
    "a = 0\n",
    "while a < 10:\n",
    "    a = a + 1\n",
    "    if a % 2 == 0:\n",
    "        # 짝수인 경우는 그냥 건너뛰고싶어..!\n",
    "    print(a)"
   ]
  },
  {
   "cell_type": "markdown",
   "metadata": {},
   "source": [
    "#### continue\n",
    "continue문은 while문의 맨 처음으로 돌아가게 하는 명령어이다. "
   ]
  },
  {
   "cell_type": "markdown",
   "metadata": {},
   "source": [
    "-------------\n",
    "### (5) 무한 루프"
   ]
  },
  {
   "cell_type": "markdown",
   "metadata": {},
   "source": [
    "**무한 루프란 무한히 반복한다는 의미이다.**  \n",
    "우리가 사용하는 일반적인 프로그램 중에서 무한 루프의 개념을 사용하지 않는 프로그램은 거의 없다.  \n",
    "그만큼 자주 사용된다는 뜻이다."
   ]
  },
  {
   "cell_type": "code",
   "execution_count": null,
   "metadata": {},
   "outputs": [],
   "source": [
    "while True: \n",
    "    수행할 문장1 \n",
    "    수행할 문장2\n",
    "    ..."
   ]
  },
  {
   "cell_type": "markdown",
   "metadata": {},
   "source": [
    "while문의 조건문이 True이므로 항상 참이 된다.  \n",
    "따라서 while문 안에 있는 문장들은 무한하게 수행될 것이다."
   ]
  },
  {
   "cell_type": "markdown",
   "metadata": {},
   "source": [
    "--------------\n",
    "## <Question 06>"
   ]
  },
  {
   "cell_type": "markdown",
   "metadata": {},
   "source": [
    "> **「3의 배수의 합」**  \n",
    "1부터 1000까지의 자연수 중 3의 배수의 합을 구하시오.  \n",
    "\n",
    "**Hint01)** while문을 사용한다.  \n",
    "**Hint02)** 앞서 배웠던 operator와 조건문을 사용한다."
   ]
  },
  {
   "cell_type": "markdown",
   "metadata": {},
   "source": [
    "> **「50점 이상의 총합」**  \n",
    "다음은 A학급 학생의 점수를 나타내는 리스트이다. 다음 리스트에서 50점 이상의 점수들의 총합을 구하시오.  \n",
    "\n",
    "**Hint01)** 리스트의 길이를 구하는 함수는 len()이다.  \n",
    "**Hint02)** 리스트의 마지막 항목을 뽑고, 리스트에서 제거하는 함수는 pop()이다.  \n",
    "mark = A.pop()  \n",
    "**Hint03)** while문의 무한 루프를 기억하자.\n",
    "\n",
    "\n",
    "A = [20, 55, 67, 82, 45, 33, 90, 87, 100, 25]"
   ]
  },
  {
   "cell_type": "markdown",
   "metadata": {},
   "source": [
    "> **「별 표시하기1」**  \n",
    "while문을 이용하여 아래와 같이 별(*)을 표시하는 프로그램을 작성해 보자.  \n",
    "\n",
    "**Hint01)** break문을 사용한다.  "
   ]
  },
  {
   "cell_type": "code",
   "execution_count": null,
   "metadata": {},
   "outputs": [],
   "source": [
    "*\n",
    "**\n",
    "***\n",
    "****"
   ]
  },
  {
   "cell_type": "code",
   "execution_count": null,
   "metadata": {},
   "outputs": [],
   "source": []
  }
 ],
 "metadata": {
  "kernelspec": {
   "display_name": "Python 3",
   "language": "python",
   "name": "python3"
  },
  "language_info": {
   "codemirror_mode": {
    "name": "ipython",
    "version": 3
   },
   "file_extension": ".py",
   "mimetype": "text/x-python",
   "name": "python",
   "nbconvert_exporter": "python",
   "pygments_lexer": "ipython3",
   "version": "3.6.6"
  }
 },
 "nbformat": 4,
 "nbformat_minor": 2
}
