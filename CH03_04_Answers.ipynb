{
 "cells": [
  {
   "cell_type": "markdown",
   "metadata": {},
   "source": [
    "### Question 01  \n",
    "> **「쇼핑하러 갈 때, 우유 하나 사와. 아, 계란 있으면 6개 사와」**\n",
    "\n",
    "라고 심부름을 부탁했다.\n",
    "\n",
    "남편이 우유 하나와 계란을 6개 사오는 조건문을 작성해보자.\n",
    "\n",
    "**계란이 있다면 우유 하나와 계란 6개, 계란이 없다면 우유 하나만 사온다.**  \n",
    "**우유가 없다면 아무 것도 사오지 않는다.**\n",
    "  \n",
    "  \n",
    "  \n",
    "\n",
    "  \n",
    "  \n"
   ]
  },
  {
   "cell_type": "markdown",
   "metadata": {},
   "source": [
    "**Hint01)** 우유의 변수명은 'milk', 계란의 변수명은 'eggs'  \n",
    "**Hint02)** 우유와 계란의 유무 및 개수는 변수에 저장된 값을 바꿈으로써 지정한다.  \n",
    "**Hint03)** 우유와 계란의 개수는 print 형식으로 출력한다.  \n",
    "<--출력 형식-->  \n",
    "milk : ?  \n",
    "eggs : ?  \n",
    "No eggs (계란이 없을 시)  "
   ]
  },
  {
   "cell_type": "code",
   "execution_count": 1,
   "metadata": {},
   "outputs": [
    {
     "name": "stdout",
     "output_type": "stream",
     "text": [
      "milk :  1\n",
      "No eggs!\n"
     ]
    }
   ],
   "source": [
    "milk = 1\n",
    "eggs = 0\n",
    "\n",
    "if milk==1:\n",
    "    print('milk : ',milk)\n",
    "    \n",
    "    if not eggs==0:\n",
    "        print('eggs : ', eggs)\n",
    "        \n",
    "    else:\n",
    "        print('No eggs!')"
   ]
  },
  {
   "cell_type": "markdown",
   "metadata": {},
   "source": [
    "### Question 02  \n",
    "> ### 「두 가지 숫자를 비교하여 다음과 같이 출력하시오.」  \n",
    "  \n",
    "1. 두 숫자가 같으면 **'두 숫자는 같습니다!'** \n",
    "2. 크거나 작으면 **'변수 x가 변수 y보다 큽니다 or 작습니다'**  \n",
    "  \n",
    "**Hint01)** 변수명은 자유롭게 지정한다  \n",
    "**Hint02)** if문과 비교 연산자를 사용한다  \n",
    "**Hint03)** else문은 사용하지 않는다. (only if, elif)\n",
    "\n",
    "-----------------------------------------------------------------------"
   ]
  },
  {
   "cell_type": "code",
   "execution_count": 3,
   "metadata": {},
   "outputs": [
    {
     "name": "stdout",
     "output_type": "stream",
     "text": [
      "변수1이 변수2 보다 작습니다\n"
     ]
    }
   ],
   "source": [
    "num1 = 20\n",
    "num2 = 30\n",
    "\n",
    "if num1 == num2:\n",
    "    print('두 숫자는 같습니다!')\n",
    "\n",
    "elif num1 != num2:\n",
    "    if num1>=num2:\n",
    "        print('변수1이 변수2 보다 큽니다')\n",
    "    elif num1<=num2:\n",
    "        print('변수1이 변수2 보다 작습니다')"
   ]
  },
  {
   "cell_type": "markdown",
   "metadata": {},
   "source": [
    "### Question 03  \n",
    "> **\"주머니에 돈이 있으면 택시를 타고, 주머니에 돈은 없지만 카드가 있으면 택시를 타고, 돈도 없고 카드도 없으면 걸어 가라\"**\n",
    "  \n",
    "  **Hint01)** elif문을 사용하시오."
   ]
  },
  {
   "cell_type": "code",
   "execution_count": 10,
   "metadata": {},
   "outputs": [
    {
     "name": "stdout",
     "output_type": "stream",
     "text": [
      "택시를 타고가라\n"
     ]
    }
   ],
   "source": [
    "pocket = ['paper', 'cellphone', 'money']\n",
    "card = True\n",
    "\n",
    "if 'money' in pocket:\n",
    "    print(\"택시를 타고가라\")\n",
    "elif card: \n",
    "    print(\"택시를 타고가라\")\n",
    "else:\n",
    "    print(\"걸어가라\")"
   ]
  },
  {
   "cell_type": "markdown",
   "metadata": {},
   "source": [
    "### Question 04\n",
    "> **다음 코드에 주석을 달아 각 조건문을 설명하고, 결과값을 확인해보자.**\n",
    "  "
   ]
  },
  {
   "cell_type": "code",
   "execution_count": 11,
   "metadata": {},
   "outputs": [
    {
     "name": "stdout",
     "output_type": "stream",
     "text": [
      "shirt\n"
     ]
    }
   ],
   "source": [
    "a = \"Life is too short, you need python\"\n",
    "\n",
    "# 'wife'라는 단어가 a 안에 존재한다면\n",
    "if 'wife' in a:\n",
    "# wife를 출력\n",
    "    print('wife')\n",
    "\n",
    "# 위에 조건문이 거짓이라면 이 조건문으로 이동\n",
    "# a안에 python이라는 단어가 있고 you라는 단어가 없다면\n",
    "elif 'python' in a and 'you' not in a:\n",
    "# python을 출력\n",
    "    print('python')\n",
    "\n",
    "# 위에 조건문이 거짓이라면 이 조건문으로 이동\n",
    "# a 안에 shirt라는 단어가 없다면\n",
    "elif 'shirt' not in a:\n",
    "# shirt 출력\n",
    "    print('shirt')\n",
    "# shirt라는 단어는 a에 없으므로 이 조건문은 참\n",
    "\n",
    "# 위에 조건문이 거짓이라면 이 조건문으로 이동\n",
    "# a 안에 need 라는 단어가 있다면\n",
    "elif 'need' in a:\n",
    "# need 출력\n",
    "    print('need')\n",
    "\n",
    "# 위에 조건문이 모두 거짓이라면 이 조건문으로 이동\n",
    "# 어느 조건문도 해당하지 않는다면 none 출력\n",
    "else:\n",
    "    print('none')"
   ]
  },
  {
   "cell_type": "markdown",
   "metadata": {},
   "source": [
    "## <Question 05>\n",
    "> **「실제 커피 자판기를 만들어보자」**  \n",
    "  \n",
    "**Hint01)** while문을 사용한다.  \n",
    "**Hint02)** if문을 사용한다.  \n",
    "**Hint03)** 돈은 입력을 받고, 입력받는 함수는 input을 사용한다.  \n",
    "**Hint04)** 커피는 10개부터 시작하고, 한 잔에 300원이다."
   ]
  },
  {
   "cell_type": "code",
   "execution_count": 1,
   "metadata": {},
   "outputs": [
    {
     "name": "stdout",
     "output_type": "stream",
     "text": [
      "돈을 넣어 주세요: 500\n",
      "거스름돈 200를 주고 커피를 줍니다.\n",
      "돈을 넣어 주세요: 300\n",
      "커피를 줍니다.\n",
      "돈을 넣어 주세요: 100\n",
      "돈을 다시 돌려주고 커피를 주지 않습니다.\n",
      "남은 커피의 양은 8개 입니다.\n",
      "돈을 넣어 주세요: 10000\n",
      "거스름돈 9700를 주고 커피를 줍니다.\n",
      "돈을 넣어 주세요: 600\n",
      "거스름돈 300를 주고 커피를 줍니다.\n",
      "돈을 넣어 주세요: 500\n",
      "거스름돈 200를 주고 커피를 줍니다.\n",
      "돈을 넣어 주세요: 400\n",
      "거스름돈 100를 주고 커피를 줍니다.\n",
      "돈을 넣어 주세요: 100\n",
      "돈을 다시 돌려주고 커피를 주지 않습니다.\n",
      "남은 커피의 양은 4개 입니다.\n",
      "돈을 넣어 주세요: 0\n",
      "돈을 다시 돌려주고 커피를 주지 않습니다.\n",
      "남은 커피의 양은 4개 입니다.\n",
      "돈을 넣어 주세요: 4\n",
      "돈을 다시 돌려주고 커피를 주지 않습니다.\n",
      "남은 커피의 양은 4개 입니다.\n",
      "돈을 넣어 주세요: 500\n",
      "거스름돈 200를 주고 커피를 줍니다.\n",
      "돈을 넣어 주세요: 500\n",
      "거스름돈 200를 주고 커피를 줍니다.\n",
      "돈을 넣어 주세요: 500\n",
      "거스름돈 200를 주고 커피를 줍니다.\n",
      "돈을 넣어 주세요: 500\n",
      "거스름돈 200를 주고 커피를 줍니다.\n",
      "커피가 다 떨어졌습니다. 판매를 중지 합니다.\n"
     ]
    }
   ],
   "source": [
    "coffee = 10\n",
    "while True:\n",
    "    money = int(input(\"돈을 넣어 주세요: \"))\n",
    "    if money == 300:\n",
    "        print(\"커피를 줍니다.\")\n",
    "        coffee = coffee -1\n",
    "    elif money > 300:\n",
    "        print(\"거스름돈 %d를 주고 커피를 줍니다.\" % (money -300))\n",
    "        coffee = coffee -1\n",
    "    else:\n",
    "        print(\"돈을 다시 돌려주고 커피를 주지 않습니다.\")\n",
    "        print(\"남은 커피의 양은 %d개 입니다.\" % coffee)\n",
    "    if coffee == 0:\n",
    "        print(\"커피가 다 떨어졌습니다. 판매를 중지 합니다.\")\n",
    "        break"
   ]
  },
  {
   "cell_type": "markdown",
   "metadata": {},
   "source": [
    "## <Question 06>"
   ]
  },
  {
   "cell_type": "markdown",
   "metadata": {},
   "source": [
    "> **「3의 배수의 합」**  \n",
    "1부터 1000까지의 자연수 중 3의 배수의 합을 구하시오.  \n",
    "\n",
    "\n",
    "**Hint01)** while문을 사용한다.  \n",
    "**Hint02)** 앞서 배웠던 operator와 조건문을 사용한다."
   ]
  },
  {
   "cell_type": "code",
   "execution_count": 4,
   "metadata": {},
   "outputs": [
    {
     "name": "stdout",
     "output_type": "stream",
     "text": [
      "166833\n"
     ]
    }
   ],
   "source": [
    "num = 1\n",
    "res = 0\n",
    "\n",
    "# 1000까지의 자연수\n",
    "while num<=1000:\n",
    "    \n",
    "    # 3의 배수는 3으로 남으면 나머지가 0\n",
    "    if num%3==0:\n",
    "        # 결과값에 3의 배수를 추가\n",
    "        res+=num\n",
    "    # 다음 자연수로 이동\n",
    "    num+=1\n",
    "        \n",
    "print(res)"
   ]
  },
  {
   "cell_type": "markdown",
   "metadata": {},
   "source": [
    "> **「50점 이상의 총합」**  \n",
    "다음은 A학급 학생의 점수를 나타내는 리스트이다. 다음 리스트에서 50점 이상의 점수들의 총합을 구하시오.  \n",
    "\n",
    "**Hint01)** 리스트의 길이를 구하는 함수는 len()이다.  \n",
    "**Hint02)** 리스트의 마지막 항목을 뽑고, 리스트에서 제거하는 함수는 pop()이다.  \n",
    "mark = A.pop()  \n",
    "**Hint03)** while문의 무한 루프를 기억하자.\n",
    "\n",
    "A = [20, 55, 67, 82, 45, 33, 90, 87, 100, 25]"
   ]
  },
  {
   "cell_type": "code",
   "execution_count": 12,
   "metadata": {},
   "outputs": [
    {
     "name": "stdout",
     "output_type": "stream",
     "text": [
      "481\n"
     ]
    }
   ],
   "source": [
    "A=[20,55,67,82,45,33,90,87,100,25]\n",
    "res = 0\n",
    "i = 0\n",
    "# 리스트의 길이\n",
    "list_len = len(A)\n",
    "\n",
    "# 리스트의 길이만큼\n",
    "while i<list_len:\n",
    "    if A[i]>=50:\n",
    "        res+=A[i]\n",
    "    i+=1\n",
    "    \n",
    "print(res)\n",
    "    "
   ]
  },
  {
   "cell_type": "code",
   "execution_count": 17,
   "metadata": {},
   "outputs": [
    {
     "name": "stdout",
     "output_type": "stream",
     "text": [
      "25\n",
      "[20, 55, 67, 82, 45, 33, 90, 87, 100]\n",
      "100\n",
      "[20, 55, 67, 82, 45, 33, 90, 87]\n",
      "87\n",
      "[20, 55, 67, 82, 45, 33, 90]\n",
      "90\n",
      "[20, 55, 67, 82, 45, 33]\n",
      "33\n",
      "[20, 55, 67, 82, 45]\n",
      "45\n",
      "[20, 55, 67, 82]\n",
      "82\n",
      "[20, 55, 67]\n",
      "67\n",
      "[20, 55]\n",
      "55\n",
      "[20]\n",
      "20\n",
      "[]\n",
      "481\n"
     ]
    }
   ],
   "source": [
    "A = [20, 55, 67, 82, 45, 33, 90, 87, 100, 25]\n",
    "\n",
    "result = 0\n",
    "while A:  # A 리스트에 값이 있는 동안\n",
    "    mark = A.pop()  # A리스트의 가장 마지막 항목을 하나씩 뽑아냄\n",
    "    print(mark)\n",
    "    print(A)\n",
    "    if mark >= 50:  # 50점 이상의 점수만 더함\n",
    "        result += mark\n",
    "\n",
    "print(result)  # 481 출력"
   ]
  },
  {
   "cell_type": "markdown",
   "metadata": {},
   "source": [
    "> **「별 표시하기1」**  \n",
    "while문을 이용하여 아래와 같이 별(*)을 표시하는 프로그램을 작성해 보자.  \n",
    "\n",
    "**Hint01)** break문을 사용한다."
   ]
  },
  {
   "cell_type": "code",
   "execution_count": 14,
   "metadata": {},
   "outputs": [
    {
     "name": "stdout",
     "output_type": "stream",
     "text": [
      "*\n",
      "**\n",
      "***\n",
      "****\n"
     ]
    }
   ],
   "source": [
    "count = 0\n",
    "\n",
    "while True:\n",
    "    # 별의 개수\n",
    "    count+=1\n",
    "    if count>4:\n",
    "        break\n",
    "    print('*'*count)"
   ]
  },
  {
   "cell_type": "markdown",
   "metadata": {},
   "source": [
    "## <Question 07>\n",
    "> **「\"총 5명의 학생이 시험을 보았는데 시험 점수가 60점이 넘으면 합격이고 그렇지 않으면 불합격이다. 합격인지 불합격인지 결과를 보여주시오.\"」**  \n",
    "\n",
    "**Hint01)** for문을 사용한다.  \n",
    "**Hint02)** for문은 조건을 값으로도 사용한다는 점을 기억한다.  \n"
   ]
  },
  {
   "cell_type": "code",
   "execution_count": 18,
   "metadata": {},
   "outputs": [
    {
     "name": "stdout",
     "output_type": "stream",
     "text": [
      "1번 학생은 합격입니다.\n",
      "2번 학생은 불합격입니다.\n",
      "3번 학생은 합격입니다.\n",
      "4번 학생은 불합격입니다.\n",
      "5번 학생은 합격입니다.\n"
     ]
    }
   ],
   "source": [
    "marks = [90, 25, 67, 45, 80]\n",
    "number = 0 \n",
    "\n",
    "\n",
    "for mark in marks: \n",
    "    # 학생의 번호\n",
    "    number = number +1\n",
    "    \n",
    "    # 학생의 점수가 60점 이상이라면\n",
    "    if mark >= 60: \n",
    "        print(\"%d번 학생은 합격입니다.\" % number)\n",
    "    else: \n",
    "        print(\"%d번 학생은 불합격입니다.\" % number)"
   ]
  },
  {
   "cell_type": "markdown",
   "metadata": {},
   "source": [
    "--------------\n",
    "## <Question 08>\n",
    "> **「\"2단부터 9단까지 구구단을 출력하라.\"」**  \n",
    "\n",
    "**Hint01)** for문을 2개 사용한다.  \n",
    "**Hint02)** range함수를 사용한다.\n"
   ]
  },
  {
   "cell_type": "code",
   "execution_count": 23,
   "metadata": {},
   "outputs": [
    {
     "name": "stdout",
     "output_type": "stream",
     "text": [
      "2 4 6 8 10 12 14 16 18 \n",
      "3 6 9 12 15 18 21 24 27 \n",
      "4 8 12 16 20 24 28 32 36 \n",
      "5 10 15 20 25 30 35 40 45 \n",
      "6 12 18 24 30 36 42 48 54 \n",
      "7 14 21 28 35 42 49 56 63 \n",
      "8 16 24 32 40 48 56 64 72 \n",
      "9 18 27 36 45 54 63 72 81 \n"
     ]
    }
   ],
   "source": [
    "# 2부터 9까지를 반복\n",
    "for i in range(2,10):\n",
    "    #1부터 9까지를 반복\n",
    "    for j in range(1, 10):\n",
    "        print(i*j, end=\" \") \n",
    "    print('') "
   ]
  },
  {
   "cell_type": "markdown",
   "metadata": {},
   "source": [
    "--------------\n",
    "## <Question 09>\n",
    "> **「\"1부터 100까지 출력\"」**  \n",
    "\n",
    "1부터 100까지의 숫자를 for문을 이용하여 출력하시오.  \n",
    "  \n",
    "  \n",
    "**Hint01)** range 함수를 사용한다.  \n",
    "- range 함수가 출력하는 범위를 생각해보세요."
   ]
  },
  {
   "cell_type": "code",
   "execution_count": 24,
   "metadata": {
    "scrolled": true
   },
   "outputs": [
    {
     "name": "stdout",
     "output_type": "stream",
     "text": [
      "1\n",
      "2\n",
      "3\n",
      "4\n",
      "5\n",
      "6\n",
      "7\n",
      "8\n",
      "9\n",
      "10\n",
      "11\n",
      "12\n",
      "13\n",
      "14\n",
      "15\n",
      "16\n",
      "17\n",
      "18\n",
      "19\n",
      "20\n",
      "21\n",
      "22\n",
      "23\n",
      "24\n",
      "25\n",
      "26\n",
      "27\n",
      "28\n",
      "29\n",
      "30\n",
      "31\n",
      "32\n",
      "33\n",
      "34\n",
      "35\n",
      "36\n",
      "37\n",
      "38\n",
      "39\n",
      "40\n",
      "41\n",
      "42\n",
      "43\n",
      "44\n",
      "45\n",
      "46\n",
      "47\n",
      "48\n",
      "49\n",
      "50\n",
      "51\n",
      "52\n",
      "53\n",
      "54\n",
      "55\n",
      "56\n",
      "57\n",
      "58\n",
      "59\n",
      "60\n",
      "61\n",
      "62\n",
      "63\n",
      "64\n",
      "65\n",
      "66\n",
      "67\n",
      "68\n",
      "69\n",
      "70\n",
      "71\n",
      "72\n",
      "73\n",
      "74\n",
      "75\n",
      "76\n",
      "77\n",
      "78\n",
      "79\n",
      "80\n",
      "81\n",
      "82\n",
      "83\n",
      "84\n",
      "85\n",
      "86\n",
      "87\n",
      "88\n",
      "89\n",
      "90\n",
      "91\n",
      "92\n",
      "93\n",
      "94\n",
      "95\n",
      "96\n",
      "97\n",
      "98\n",
      "99\n",
      "100\n"
     ]
    }
   ],
   "source": [
    "# 1부터 100까지 반복\n",
    "for i in range(1,101):\n",
    "    print(i)"
   ]
  },
  {
   "cell_type": "markdown",
   "metadata": {},
   "source": [
    "> **「학급의 평균 점수」**  \n",
    "\n",
    "for문을 이용하여 A 학급의 평균 점수를 구해 보자.  \n",
    "A = [70, 60, 55, 75, 95, 90, 80, 80, 85, 100]  \n",
    "  \n",
    "**Hint01)** len()함수는 리스트의 길이를 반환합니다."
   ]
  },
  {
   "cell_type": "code",
   "execution_count": 27,
   "metadata": {},
   "outputs": [
    {
     "name": "stdout",
     "output_type": "stream",
     "text": [
      "A학급의 평균은  79.0\n"
     ]
    }
   ],
   "source": [
    "A=[70,60,55,75,95,90,80,80,85,100]\n",
    "avg = 0\n",
    "\n",
    "for score in A:\n",
    "    avg+=score\n",
    "    \n",
    "total = avg/len(A)\n",
    "print('A학급의 평균은 ',total)"
   ]
  },
  {
   "cell_type": "markdown",
   "metadata": {},
   "source": [
    "\n",
    "> **「리스트 내포」**  \n",
    "\n",
    "리스트 중에서 홀수에만 2를 곱하여 저장하는 다음과 같은 코드가 있다.\n",
    "\n"
   ]
  },
  {
   "cell_type": "code",
   "execution_count": null,
   "metadata": {},
   "outputs": [],
   "source": [
    "numbers = [1, 2, 3, 4, 5]\n",
    "\n",
    "result = []\n",
    "for n in numbers:\n",
    "    if n % 2 == 1:\n",
    "        result.append(n*2)"
   ]
  },
  {
   "cell_type": "markdown",
   "metadata": {},
   "source": [
    "위 코드를 리스트 내포(list comprehension)를 이용하여 표현하시오.  \n",
    "  "
   ]
  },
  {
   "cell_type": "code",
   "execution_count": 30,
   "metadata": {},
   "outputs": [],
   "source": [
    "numbers = [1,2,3,4,5]\n",
    "\n",
    "result = [i*2 for i in numbers if i%2==1]"
   ]
  },
  {
   "cell_type": "code",
   "execution_count": 31,
   "metadata": {},
   "outputs": [
    {
     "data": {
      "text/plain": [
       "[2, 6, 10]"
      ]
     },
     "execution_count": 31,
     "metadata": {},
     "output_type": "execute_result"
    }
   ],
   "source": [
    "result"
   ]
  },
  {
   "cell_type": "code",
   "execution_count": null,
   "metadata": {},
   "outputs": [],
   "source": []
  }
 ],
 "metadata": {
  "kernelspec": {
   "display_name": "Python 3",
   "language": "python",
   "name": "python3"
  },
  "language_info": {
   "codemirror_mode": {
    "name": "ipython",
    "version": 3
   },
   "file_extension": ".py",
   "mimetype": "text/x-python",
   "name": "python",
   "nbconvert_exporter": "python",
   "pygments_lexer": "ipython3",
   "version": "3.6.6"
  }
 },
 "nbformat": 4,
 "nbformat_minor": 2
}
