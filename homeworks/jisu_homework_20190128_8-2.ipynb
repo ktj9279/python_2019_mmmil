{
 "cells": [
  {
   "cell_type": "markdown",
   "metadata": {},
   "source": [
    "#문자열 압축하기\n",
    "------------\n",
    "* 문자열을 입력 받아 같은 문자가 연속적으로 반복되는 경우에 그 반복 횟수를 표시하여 문자열을 압축하여 표시해 보자."
   ]
  },
  {
   "cell_type": "code",
   "execution_count": 22,
   "metadata": {},
   "outputs": [
    {
     "name": "stdout",
     "output_type": "stream",
     "text": [
      "a0aaabbcccccca1\n"
     ]
    }
   ],
   "source": [
    "#aaabbcccccca > a3b2c6a1\n",
    "\n",
    "L = 'aaabbcccccca'\n",
    "result = L[0]\n",
    "count = 0\n",
    "\n",
    "if ?"
   ]
  },
  {
   "cell_type": "markdown",
   "metadata": {},
   "source": [
    "#모스부호 해독하기\n",
    "-----------\n",
    "* '.... .  ... .-.. . . .--. ...  . .- .-. .-.. -.--' > HE SLEEPS EARLY"
   ]
  },
  {
   "cell_type": "code",
   "execution_count": 13,
   "metadata": {},
   "outputs": [
    {
     "name": "stdout",
     "output_type": "stream",
     "text": [
      "HE SLEEPS EARLY \n"
     ]
    }
   ],
   "source": [
    "dic = {\n",
    "    '.-' : 'A', '-...' : 'B', '-.-.' : 'C', '-..' : 'D', '.' : 'E', '..-.' : 'F', '--.' : 'G', '....' : 'H', '..' : 'I', '.---': 'J',\n",
    "    '-.-': 'K','.-..': 'L','--' : 'M', '-.' : 'N', '---' : 'O', '.--.' : 'P', '--.-' : 'Q', '.-.' : 'R', '...' : 'S', '-' : 'T',\n",
    "    '..-' : 'U', '...-' : 'V', '.--' : 'W', '-..-': 'X', '-.--' : 'Y', '--..' : 'Z'}\n",
    "\n",
    "def morse(str):\n",
    "    result = []\n",
    "    for word in str.split(\"  \"):\n",
    "        for char in word.split(\" \"):\n",
    "            result.append(dic[char])\n",
    "        result.append(\" \")\n",
    "    return \"\".join(result)\n",
    "\n",
    "\n",
    "print(morse('.... .  ... .-.. . . .--. ...  . .- .-. .-.. -.--'))"
   ]
  }
 ],
 "metadata": {
  "kernelspec": {
   "display_name": "Python 3",
   "language": "python",
   "name": "python3"
  },
  "language_info": {
   "codemirror_mode": {
    "name": "ipython",
    "version": 3
   },
   "file_extension": ".py",
   "mimetype": "text/x-python",
   "name": "python",
   "nbconvert_exporter": "python",
   "pygments_lexer": "ipython3",
   "version": "3.7.1"
  }
 },
 "nbformat": 4,
 "nbformat_minor": 2
}
